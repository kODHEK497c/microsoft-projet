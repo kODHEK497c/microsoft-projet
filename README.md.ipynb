{
 "cells": [
  {
   "cell_type": "markdown",
   "id": "f9c519c1",
   "metadata": {},
   "source": [
    "# Microsoft wants to get into video content  , they have a new studio that needs recomendations for what films to get into "
   ]
  },
  {
   "cell_type": "markdown",
   "id": "50f9bccb",
   "metadata": {},
   "source": [
    "# overview"
   ]
  },
  {
   "cell_type": "markdown",
   "id": "40a26a3f",
   "metadata": {},
   "source": [
    "_# this project analyzes  movie data files  that provides us with predictive insights of what film types microsoft new studio will venture into .It contains descriptive analysis and outcome data that shows specific genres that are viable in the market as well as their prefered runtime minutes \n",
    "  "
   ]
  },
  {
   "cell_type": "markdown",
   "id": "b9aaccf0",
   "metadata": {},
   "source": [
    "# BUSINESS PROBLEM"
   ]
  },
  {
   "cell_type": "markdown",
   "id": "343dbaa6",
   "metadata": {},
   "source": [
    "-#  -To ensure microsoft entry in video content is fun as intended, microsoft new movies studio has to be provided with viable film types,their prefered duration and financial gains that will come along the way. using well selected data i analysed it formed patterns and made precise recomendations that made this happen "
   ]
  },
  {
   "cell_type": "markdown",
   "id": "cc56f80a",
   "metadata": {},
   "source": [
    "# DATA"
   ]
  },
  {
   "cell_type": "markdown",
   "id": "b595ea2e",
   "metadata": {},
   "source": [
    "_# The data i worked on came from IMBD which is an online database that provides information related to films television series, podcasts, home videos and video games .The data files provide genres,rates, votes and dates that prooved to be helpfull in my data analysis"
   ]
  },
  {
   "cell_type": "markdown",
   "id": "c9fa8098",
   "metadata": {},
   "source": [
    "# methods"
   ]
  },
  {
   "cell_type": "markdown",
   "id": "bc1ae992",
   "metadata": {},
   "source": [
    "-# This project uses descriptive analysis including trends of genres grouped by rates, votes, domestic gross and foreign gross .the project also has explicit code that has been well commented for the microsoft new movie studio to follow up "
   ]
  },
  {
   "cell_type": "markdown",
   "id": "5f3ab9b2",
   "metadata": {},
   "source": [
    "# RESULTS"
   ]
  },
  {
   "cell_type": "markdown",
   "id": "812bc1e7",
   "metadata": {},
   "source": [
    "# ACTION,ADVENTURE,DRAMA, COMEDY eventually prooved to be the most viable film types to get into  they ranked high in rates, votes and both domestic,foreign gross"
   ]
  },
  {
   "cell_type": "markdown",
   "id": "f161316e",
   "metadata": {},
   "source": [
    "# conclusions"
   ]
  },
  {
   "cell_type": "markdown",
   "id": "c1ed68c3",
   "metadata": {},
   "source": [
    "-# this analysis has just two recommendations for microsoft to consider .\n",
    "-one- make sure your films runtime minutes are below 200\n",
    "-two - consider action , adventure , drama and comedy as a priority when amking your films"
   ]
  },
  {
   "cell_type": "code",
   "execution_count": null,
   "id": "2f90fc8d",
   "metadata": {},
   "outputs": [],
   "source": []
  }
 ],
 "metadata": {
  "kernelspec": {
   "display_name": "Python 3 (ipykernel)",
   "language": "python",
   "name": "python3"
  },
  "language_info": {
   "codemirror_mode": {
    "name": "ipython",
    "version": 3
   },
   "file_extension": ".py",
   "mimetype": "text/x-python",
   "name": "python",
   "nbconvert_exporter": "python",
   "pygments_lexer": "ipython3",
   "version": "3.10.9"
  }
 },
 "nbformat": 4,
 "nbformat_minor": 5
}
